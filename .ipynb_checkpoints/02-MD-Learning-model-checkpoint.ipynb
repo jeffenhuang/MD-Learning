{
 "cells": [
  {
   "cell_type": "markdown",
   "metadata": {},
   "source": [
    "# LAMMPS tutorial 01: Installation and first run\n",
    "\n",
    "In this tutorial, you will learn to install the lammps in different platforms\n",
    "\n",
    "## Step 1: Download LAMMPS for Windows Executable\n",
    "\n",
    "Follow these steps to download the LAMMPS Windows Executable:\n",
    "\n",
    "\n",
    "1. Goto the LAMMPS download webpage, http://packages.lammps.org/windows.html\n",
    "\n",
    "![](img/img1.png)\n",
    "\n",
    "2. Select the correct 32-bit or 64-bit versions for your machine.\n",
    "\n",
    "![](img/img2.png)\n",
    "\n",
    "3. Take 64-bit version for example, there are serial version for serial computation (The sequential execution of all parts of the same task on a single processor) and Multiple Process Message Passing Interface (MPI) version for parrallel computation avialable. The serial version lammps can be runned on windows platform directly. While MPI version cannot be runned without MPI librarys installed on the computer.\n",
    "\n",
    "3. Now select the correct version for your download.\n",
    "\n",
    "4. Once downloaded, installed the version on your computer. For 64-bit version, the default installation directory will be 'C:\\Program Files\\LAMMPS 64-bit DDMMYY', 'DDMMYY' are the version ended with the date. Also, you can find the path have been added to the windows environment varibale\n",
    "\n",
    "## Step 2: Run LAMMPS via commond line\n",
    "1. Create a new folder in you disk, for example, 'D:\\MDSimulation\\', copy the Examples folder in LAMMPS directory into your own folder.\n",
    "\n",
    "![](img/img3.png)\n",
    "\n",
    "2. Press ⊞ Win + R to open Run. And input 'cmd' to open the command line.\n",
    "\n",
    "3. In the shell command line, change to the directory '..\\Example\\shear' you created. For example: 'D:\\MDSimulation\\Examples\\shear'\n"
   ]
  },
  {
   "cell_type": "code",
   "execution_count": null,
   "metadata": {},
   "outputs": [],
   "source": [
    "cd D:\\MDSimulation\\Examples\\shear"
   ]
  },
  {
   "cell_type": "markdown",
   "metadata": {},
   "source": [
    "4. Open script file in.shear with any text editor. Remove the '#' from line 65 to 73. And save the change.\n",
    "\n",
    "![](img/img4.png)\n",
    "\n",
    "5. in the command line, input:"
   ]
  },
  {
   "cell_type": "code",
   "execution_count": null,
   "metadata": {},
   "outputs": [],
   "source": [
    "lmp_serial -in in.sheaar"
   ]
  },
  {
   "cell_type": "markdown",
   "metadata": {},
   "source": [
    "6. For MPI version:"
   ]
  },
  {
   "cell_type": "code",
   "execution_count": null,
   "metadata": {},
   "outputs": [],
   "source": [
    "mpiexec -n 4 lmp_mpi -in in.crack"
   ]
  },
  {
   "cell_type": "markdown",
   "metadata": {},
   "source": [
    "    In this commabd, the 4 is the number of processor for the computing.\n",
    "\n",
    "7. Congratulation. You have finished this LAMMPS simulation. On you local disk, dump file, image file and movie have been created as a simulation result."
   ]
  }
 ],
 "metadata": {
  "kernelspec": {
   "display_name": "Python 3",
   "language": "python",
   "name": "python3"
  },
  "language_info": {
   "codemirror_mode": {
    "name": "ipython",
    "version": 3
   },
   "file_extension": ".py",
   "mimetype": "text/x-python",
   "name": "python",
   "nbconvert_exporter": "python",
   "pygments_lexer": "ipython3",
   "version": "3.7.6"
  }
 },
 "nbformat": 4,
 "nbformat_minor": 4
}
