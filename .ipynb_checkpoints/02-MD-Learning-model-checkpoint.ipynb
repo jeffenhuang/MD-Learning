{
 "cells": [
  {
   "cell_type": "markdown",
   "metadata": {},
   "source": [
    "# LAMMPS tutorial 02: Modelling\n",
    "\n",
    "In this tutorial, you will learn to create an MD model in LAMMPS with the LAMMPS modelling commands. Before you create the model, you need to know the basic crystalline structure knowledge - especially [Bravais Lattices structure](https://chem.libretexts.org/Bookshelves/Inorganic_Chemistry/Book%3A_Introduction_to_Inorganic_Chemistry/06%3A_Metals_and_Alloys-_Structure%2C_Bonding%2C_Electronic_and_Magnetic_Properties/6.03%3A_Bravais_Lattices).\n",
    "\n",
    "## Step 1: Understand the basic LAMMPS environment\n",
    "\n",
    "In this tutorial, there are thress commands for the basic LAMMPS environment setting. They are *unit*, *boundary*, *atom_style*,\n",
    "\n",
    "1. In LAMMPS, there are several units environment indicated by the LAMMPS units command.\n",
    "\n",
    "reference: https://lammps.sandia.gov/doc/units.html\n",
    "\n",
    "The command style is:"
   ]
  },
  {
   "cell_type": "code",
   "execution_count": null,
   "metadata": {},
   "outputs": [],
   "source": [
    "units style"
   ]
  },
  {
   "cell_type": "markdown",
   "metadata": {},
   "source": [
    "The style could be *metal*, *lj*, *real*, etc. For metallic material, it recommends the *metal* unit.\n",
    "\n",
    "2. Then, following command will define the boundary of your simulation box.\n",
    "\n",
    "The command style is:"
   ]
  },
  {
   "cell_type": "code",
   "execution_count": null,
   "metadata": {},
   "outputs": [],
   "source": [
    "boundary x y z"
   ]
  },
  {
   "cell_type": "markdown",
   "metadata": {},
   "source": [
    "reference: https://lammps.sandia.gov/doc/boundary.html\n",
    "\n",
    "The boundary command follows x, y, z three parameters which indicates the boundary types in three directions. According to the LAMMPS command reference, four types boudary conditions.\n",
    "\n",
    "p is periodic\n",
    "f is non-periodic and fixed\n",
    "s is non-periodic and shrink-wrapped\n",
    "m is non-periodic and shrink-wrapped with a minimum value\n",
    "\n",
    "3. atom_style command\n",
    "\n",
    "reference: https://lammps.sandia.gov/doc/atom_style.html\n",
    "\n",
    "This command style is:"
   ]
  },
  {
   "cell_type": "code",
   "execution_count": null,
   "metadata": {},
   "outputs": [],
   "source": [
    "atom_style style"
   ]
  },
  {
   "cell_type": "markdown",
   "metadata": {},
   "source": [
    "The style names, description and suitable systems list below:\n",
    "\n",
    "| Name | Detail | System |\n",
    "|------------|------------|------------|\n",
    "| angle | bonds and angles  | bead-spring polymers with stiffness |\n",
    "| atomic | only the default values| coarse-grain liquids, solids, metals |\n",
    "| body | mass, inertia moments, quaternion, angular momentum | arbitrary bodies |\n",
    "| bond | bonds | bead-spring polymers|\n",
    "| charge | charge | atomic system with charges |\n",
    "| dipole | charge and dipole moment | system with dipolar particles |\n",
    "| dpd | internal temperature and internal energies | DPD particles |\n",
    "| edpd | temperature and heat capacity | eDPD particles |\n",
    "| mdpd | density | mDPD particles |\n",
    "| tdpd | chemical concentration | tDPD particles | \n",
    "| electron | charge and spin and eradius | electronic force field |\n",
    "| ellipsoid | shape, quaternion, angular momentum | aspherical particles |\n",
    "| full | molecular + charge | bio-molecules |\n",
    "| line | end points, angular velocity | rigid bodies |\n",
    "| meso | rho, e, cv | SPH particles |\n",
    "| molecular | bonds, angles, dihedrals, impropers | uncharged molecules |\n",
    "| peri | mass, volume | mesoscopic Peridynamic models |\n",
    "| smd | volume , kernel diameter, contact radius, mass | solid and fluid SPH particles |\n",
    "| sphere | diameter, mass, angular velocity | granular models |\n",
    "| spin | magnetic moment | system with magnetic particles |\n",
    "| template | template index, template atom | small molecules with fixed topology |\n",
    "| tri | corner points, angular momentum | rigid bodies |\n",
    "| wavepacket | charge, spin, eradius, etag, cs_re, cs_im | AWPMD |\n",
    "\n",
    "## Step 2, The lattice structure\n",
    "\n",
    "The following commands are essential for modelling in LAMMPS. \n",
    "\n",
    "4. lattice\n",
    "\n",
    "reference: https://lammps.sandia.gov/doc/lattice.html \n",
    "\n",
    "The lattice command style is:"
   ]
  },
  {
   "cell_type": "code",
   "execution_count": null,
   "metadata": {},
   "outputs": [],
   "source": [
    "lattice style scale keyword values ..."
   ]
  },
  {
   "cell_type": "markdown",
   "metadata": {},
   "source": [
    "For example:"
   ]
  },
  {
   "cell_type": "code",
   "execution_count": null,
   "metadata": {},
   "outputs": [],
   "source": [
    "lattice fcc 3.52 orient\tx 1 0 0 orient y 0 1 1 orient z 0 -1 1 &\n",
    "        origin 0.5 0 0 "
   ]
  },
  {
   "cell_type": "markdown",
   "metadata": {},
   "source": [
    "Tip: The '&' symble in this example is for a connection of the command in a new line.\n",
    "\n",
    "Lattice command defined the crystalline structure of the material. In this example command, a face-centred cube with the orientation [1 0 0] [0 1 1] [0 -1 1] and origin of (0.5 0 0).\n",
    "\n",
    "5. create_box\n",
    "This create box command create a simulation box for LAMMPS.\n",
    "reference: https://lammps.sandia.gov/doc/create_box.html\n",
    "\n",
    "For example:"
   ]
  },
  {
   "cell_type": "code",
   "execution_count": null,
   "metadata": {},
   "outputs": [],
   "source": [
    "create_box 2 mybox"
   ]
  },
  {
   "cell_type": "markdown",
   "metadata": {},
   "source": [
    "\n",
    "6. region and group\n",
    "The two command defined region in LAMMPS simulation space for the following modelling or creation of atoms. \n",
    "\n",
    "The region \n",
    "reference: https://lammps.sandia.gov/doc/region.html\n",
    "\n"
   ]
  },
  {
   "cell_type": "code",
   "execution_count": null,
   "metadata": {},
   "outputs": [],
   "source": [
    "region 1 block -3.0 5.0 INF 10.0 INF INF"
   ]
  },
  {
   "cell_type": "markdown",
   "metadata": {},
   "source": [
    "\n",
    "The group\n",
    "reference: https://lammps.sandia.gov/doc/group.html"
   ]
  },
  {
   "cell_type": "code",
   "execution_count": null,
   "metadata": {},
   "outputs": [],
   "source": [
    "group edge region regstrip"
   ]
  },
  {
   "cell_type": "markdown",
   "metadata": {},
   "source": [
    "\n",
    "7. create_atoms\n",
    "This command create the atoms in the defined region according to the lattice\n",
    "reference: https://lammps.sandia.gov/doc/create_atoms.html\n",
    "        \n",
    "For example:"
   ]
  },
  {
   "cell_type": "code",
   "execution_count": null,
   "metadata": {},
   "outputs": [],
   "source": [
    "create_atoms 1 box"
   ]
  },
  {
   "cell_type": "markdown",
   "metadata": {},
   "source": [
    "# Step 3, The Force Field\n",
    "\n",
    "8. pair_style\n",
    "For metal, normally, the EAM and MEAM are popular.\n",
    "\n",
    "reference: https://lammps.sandia.gov/doc/pair_style.html\n",
    "\n",
    "For example:"
   ]
  },
  {
   "cell_type": "code",
   "execution_count": null,
   "metadata": {},
   "outputs": [],
   "source": [
    "pair_style eam/alloy"
   ]
  },
  {
   "cell_type": "markdown",
   "metadata": {},
   "source": [
    "9. pair_coeff\n",
    "This command defined the detail of force field.\n",
    "\n",
    "reference: https://lammps.sandia.gov/doc/pair_coeff.html\n",
    "\n",
    "For example:"
   ]
  },
  {
   "cell_type": "code",
   "execution_count": null,
   "metadata": {},
   "outputs": [],
   "source": [
    "pair_coeff 1 2 1.0 1.0 2.5"
   ]
  },
  {
   "cell_type": "markdown",
   "metadata": {},
   "source": [
    "# Step 4, Code Example\n",
    "\n",
    "In this example, a nickle block will be create with a lattice structure of FCC and lenght of 3.52 Ångström. The simulation box length is 16x10x2.828427 in X, Y and Z direction seperately. And the lattice orientation is along the [1 0 0][0 1 1][0 -1 1] direction at the origin (0.5, 0, 0). And the system adopt the EAM potential which described in file Ni_u3.eam.\n"
   ]
  },
  {
   "cell_type": "code",
   "execution_count": null,
   "metadata": {},
   "outputs": [],
   "source": [
    "# 3d metal shear simulation\n",
    "\n",
    "units\t\tmetal\n",
    "boundary\ts s p\n",
    "\n",
    "atom_style\tatomic\n",
    "lattice\t\tfcc 3.52\n",
    "region\t\tbox block 0 16.0 0 10.0 0 2.828427\n",
    "create_box\t3 box\n",
    "\n",
    "lattice\t\tfcc 3.52 orient\tx 1 0 0 orient y 0 1 1 orient z 0 -1 1 &\n",
    "\t\torigin 0.5 0 0 \n",
    "create_atoms\t1 box\n",
    "\n",
    "pair_style\team\n",
    "pair_coeff\t* * Ni_u3.eam\n"
   ]
  },
  {
   "cell_type": "markdown",
   "metadata": {},
   "source": []
  }
 ],
 "metadata": {
  "kernelspec": {
   "display_name": "Python 3",
   "language": "python",
   "name": "python3"
  },
  "language_info": {
   "codemirror_mode": {
    "name": "ipython",
    "version": 3
   },
   "file_extension": ".py",
   "mimetype": "text/x-python",
   "name": "python",
   "nbconvert_exporter": "python",
   "pygments_lexer": "ipython3",
   "version": "3.7.6"
  }
 },
 "nbformat": 4,
 "nbformat_minor": 4
}
