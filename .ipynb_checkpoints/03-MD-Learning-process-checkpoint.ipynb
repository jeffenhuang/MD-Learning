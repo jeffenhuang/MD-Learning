{
 "cells": [
  {
   "cell_type": "markdown",
   "metadata": {},
   "source": [
    "# LAMMPS Tutorial 03: Process"
   ]
  },
  {
   "cell_type": "markdown",
   "metadata": {},
   "source": [
    "1. Deformation by velocity.\n",
    "\n",
    "Get the deformation by velocity depends on the model structure. Normal process is to define the two thin slabs at the ends of the simulation model in one direction. Then, fix the two slabs. After that, add velocity gradient along the direction to introduce the shear or tensile deformation.\n",
    "\n",
    "Code Example:"
   ]
  },
  {
   "cell_type": "code",
   "execution_count": null,
   "metadata": {},
   "outputs": [],
   "source": [
    "# shear\n",
    "\n",
    "velocity\tupper set 1.0 0 0\n",
    "velocity\tmobile ramp vx 0.0 1.0 y 1.4 8.6 sum yes"
   ]
  },
  {
   "cell_type": "markdown",
   "metadata": {},
   "source": [
    "2. Deformation by change simulation box.\n",
    "\n",
    "Code Example:"
   ]
  },
  {
   "cell_type": "code",
   "execution_count": null,
   "metadata": {},
   "outputs": [],
   "source": [
    "variable A equal 5.0\n",
    "variable Tp equal 10.0\n",
    "variable displace equal \"v_A * sin(2*PI * step*dt/v_Tp)\"\n",
    "variable rate equal \"2*PI*v_A/v_Tp * cos(2*PI * step*dt/v_Tp)\"\n",
    "fix 2 all deform 1 x variable v_displace v_rate remap v"
   ]
  },
  {
   "cell_type": "markdown",
   "metadata": {},
   "source": [
    "3. Deformation by add force"
   ]
  },
  {
   "cell_type": "code",
   "execution_count": null,
   "metadata": {},
   "outputs": [],
   "source": [
    "fix freeze indenter setforce 0.0 0.0 0.0\n",
    "fix 2 edge setforce NULL 0.0 0.0\n",
    "fix 1 edge setforce/spin 0.0 0.0 0.0\n",
    "fix 2 edge setforce NULL 0.0 v_oscillate"
   ]
  }
 ],
 "metadata": {
  "kernelspec": {
   "display_name": "Python 3",
   "language": "python",
   "name": "python3"
  },
  "language_info": {
   "codemirror_mode": {
    "name": "ipython",
    "version": 3
   },
   "file_extension": ".py",
   "mimetype": "text/x-python",
   "name": "python",
   "nbconvert_exporter": "python",
   "pygments_lexer": "ipython3",
   "version": "3.7.6"
  }
 },
 "nbformat": 4,
 "nbformat_minor": 4
}
