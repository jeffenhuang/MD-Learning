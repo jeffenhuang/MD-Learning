{
 "cells": [
  {
   "cell_type": "markdown",
   "metadata": {},
   "source": [
    "# LAMMPS Tutorial 04: Control"
   ]
  },
  {
   "cell_type": "markdown",
   "metadata": {},
   "source": [
    "1. Loop control of simulation\n",
    "\n",
    "The loop control of the MD simulation can be introduced for the perodical loading and simulation run. The keyword for the loop control is use the label and jump command.\n",
    "\n",
    "Code Example:"
   ]
  },
  {
   "cell_type": "code",
   "execution_count": null,
   "metadata": {},
   "outputs": [],
   "source": [
    "# shear\n",
    "\n",
    "variable a loop 10\n",
    "label loop\n",
    "dump 1 all atom 100 file.$a\n",
    "run 10000\n",
    "undump 1\n",
    "next a\n",
    "jump in.lj loop"
   ]
  },
  {
   "cell_type": "markdown",
   "metadata": {},
   "source": [
    "2. Continue a simulation\n",
    "\n",
    "One can stop a simulation by output a special result, then, continue this simulation in another new run with the special output result."
   ]
  },
  {
   "cell_type": "code",
   "execution_count": null,
   "metadata": {},
   "outputs": [],
   "source": [
    "read_restart save.10000"
   ]
  },
  {
   "cell_type": "markdown",
   "metadata": {},
   "source": [
    "\n",
    "This read_restart command will read from file save.10000 and then continue a new simulation with different conditions.\n",
    "\n",
    "Code Example:"
   ]
  },
  {
   "cell_type": "code",
   "execution_count": null,
   "metadata": {},
   "outputs": [],
   "source": [
    "variable A equal 5.0\n",
    "variable Tp equal 10.0\n",
    "variable displace equal \"v_A * sin(2*PI * step*dt/v_Tp)\"\n",
    "variable rate equal \"2*PI*v_A/v_Tp * cos(2*PI * step*dt/v_Tp)\"\n",
    "fix 2 all deform 1 x variable v_displace v_rate remap v"
   ]
  },
  {
   "cell_type": "markdown",
   "metadata": {},
   "source": [
    "3. Ensemble"
   ]
  },
  {
   "cell_type": "code",
   "execution_count": null,
   "metadata": {},
   "outputs": [],
   "source": []
  },
  {
   "cell_type": "code",
   "execution_count": null,
   "metadata": {},
   "outputs": [],
   "source": [
    "fix freeze indenter setforce 0.0 0.0 0.0\n",
    "fix 2 edge setforce NULL 0.0 0.0\n",
    "fix 1 edge setforce/spin 0.0 0.0 0.0\n",
    "fix 2 edge setforce NULL 0.0 v_oscillate"
   ]
  },
  {
   "cell_type": "markdown",
   "metadata": {},
   "source": [
    "4. Temperature control"
   ]
  },
  {
   "cell_type": "markdown",
   "metadata": {},
   "source": [
    "5. Pressure control"
   ]
  }
 ],
 "metadata": {
  "kernelspec": {
   "display_name": "Python 3",
   "language": "python",
   "name": "python3"
  },
  "language_info": {
   "codemirror_mode": {
    "name": "ipython",
    "version": 3
   },
   "file_extension": ".py",
   "mimetype": "text/x-python",
   "name": "python",
   "nbconvert_exporter": "python",
   "pygments_lexer": "ipython3",
   "version": "3.7.6"
  }
 },
 "nbformat": 4,
 "nbformat_minor": 4
}
