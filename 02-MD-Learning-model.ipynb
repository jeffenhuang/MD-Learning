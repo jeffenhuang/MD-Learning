{
 "cells": [
  {
   "cell_type": "markdown",
   "metadata": {},
   "source": [
    "# LAMMPS tutorial 02: Modelling\n",
    "\n",
    "In this tutorial, you will learn to create an MD model in LAMMPS with the LAMMPS modelling commands. Before you create the model, you need to know the basic crystalline structure knowledge - especially Bravais Lattices structure.\n",
    "https://chem.libretexts.org/Bookshelves/Inorganic_Chemistry/Book%3A_Introduction_to_Inorganic_Chemistry/06%3A_Metals_and_Alloys-_Structure%2C_Bonding%2C_Electronic_and_Magnetic_Properties/6.03%3A_Bravais_Lattices\n",
    "\n",
    "## Step 1: Understand the basic LAMMPS environment\n",
    "\n",
    "1. In LAMMPS, there are several units environment indicated by the LAMMPS units command.\n",
    "https://lammps.sandia.gov/doc/units.html\n",
    "\n",
    "The command style is:\n",
    "\n",
    "units style\n",
    "\n",
    "The style could be *metal*, *lj*, *real*, etc. For metallic material, it recommends the *metal* unit.\n",
    "\n",
    "2. Then, following command will define the boundary of your simulation box.\n",
    "\n",
    "The command style is:\n",
    "\n",
    "boundary style style style"
   ]
  },
  {
   "cell_type": "code",
   "execution_count": null,
   "metadata": {},
   "outputs": [],
   "source": []
  },
  {
   "cell_type": "markdown",
   "metadata": {},
   "source": [
    "4. Open script file in.shear with any text editor. Remove the '#' from line 65 to 73. And save the change.\n",
    "\n",
    "![](img/img4.png)\n",
    "\n",
    "5. in the command line, input:"
   ]
  },
  {
   "cell_type": "code",
   "execution_count": null,
   "metadata": {},
   "outputs": [],
   "source": [
    "lmp_serial -in in.sheaar"
   ]
  },
  {
   "cell_type": "markdown",
   "metadata": {},
   "source": [
    "6. For MPI version:"
   ]
  },
  {
   "cell_type": "code",
   "execution_count": null,
   "metadata": {},
   "outputs": [],
   "source": [
    "mpiexec -n 4 lmp_mpi -in in.crack"
   ]
  },
  {
   "cell_type": "markdown",
   "metadata": {},
   "source": [
    "    In this commabd, the 4 is the number of processor for the computing.\n",
    "\n",
    "7. Congratulation. You have finished this LAMMPS simulation. On you local disk, dump file, image file and movie have been created as a simulation result."
   ]
  }
 ],
 "metadata": {
  "kernelspec": {
   "display_name": "Python 3",
   "language": "python",
   "name": "python3"
  },
  "language_info": {
   "codemirror_mode": {
    "name": "ipython",
    "version": 3
   },
   "file_extension": ".py",
   "mimetype": "text/x-python",
   "name": "python",
   "nbconvert_exporter": "python",
   "pygments_lexer": "ipython3",
   "version": "3.7.6"
  }
 },
 "nbformat": 4,
 "nbformat_minor": 4
}
