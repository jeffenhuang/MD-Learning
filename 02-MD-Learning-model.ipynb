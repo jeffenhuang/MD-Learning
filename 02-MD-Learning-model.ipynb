{
 "cells": [
  {
   "cell_type": "markdown",
   "metadata": {},
   "source": [
    "# LAMMPS tutorial 02: Modelling\n",
    "\n",
    "In this tutorial, you will learn to create an MD model in LAMMPS with the LAMMPS modelling commands. Before you create the model, you need to know the basic crystalline structure knowledge - especially Bravais Lattices structure.\n",
    "https://chem.libretexts.org/Bookshelves/Inorganic_Chemistry/Book%3A_Introduction_to_Inorganic_Chemistry/06%3A_Metals_and_Alloys-_Structure%2C_Bonding%2C_Electronic_and_Magnetic_Properties/6.03%3A_Bravais_Lattices\n",
    "\n",
    "## Step 1: Understand the basic LAMMPS environment\n",
    "\n",
    "1. In LAMMPS, there are several units environment indicated by the LAMMPS units command.\n",
    "https://lammps.sandia.gov/doc/units.html\n",
    "\n",
    "The command style is:\n",
    "\n",
    "units style\n",
    "\n",
    "The style could be *metal*, *lj*, *real*, etc. For metallic material, it recommends the *metal* unit.\n",
    "\n",
    "2. Then, following command will define the boundary of your simulation box.\n",
    "\n",
    "The command style is:\n",
    "\n",
    "boundary style style style"
   ]
  },
  {
   "cell_type": "code",
   "execution_count": null,
   "metadata": {},
   "outputs": [],
   "source": []
  },
  {
   "cell_type": "markdown",
   "metadata": {},
   "source": []
  },
  {
   "cell_type": "code",
   "execution_count": null,
   "metadata": {},
   "outputs": [],
   "source": []
  },
  {
   "cell_type": "markdown",
   "metadata": {},
   "source": []
  },
  {
   "cell_type": "code",
   "execution_count": null,
   "metadata": {},
   "outputs": [],
   "source": []
  },
  {
   "cell_type": "markdown",
   "metadata": {},
   "source": []
  }
 ],
 "metadata": {
  "kernelspec": {
   "display_name": "Python 3",
   "language": "python",
   "name": "python3"
  },
  "language_info": {
   "codemirror_mode": {
    "name": "ipython",
    "version": 3
   },
   "file_extension": ".py",
   "mimetype": "text/x-python",
   "name": "python",
   "nbconvert_exporter": "python",
   "pygments_lexer": "ipython3",
   "version": "3.7.6"
  }
 },
 "nbformat": 4,
 "nbformat_minor": 4
}
