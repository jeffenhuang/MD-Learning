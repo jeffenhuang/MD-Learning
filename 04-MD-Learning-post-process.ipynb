{
 "cells": [
  {
   "cell_type": "markdown",
   "metadata": {},
   "source": [
    "# LAMMPS Tutorial 04: Control"
   ]
  },
  {
   "cell_type": "markdown",
   "metadata": {},
   "source": [
    "1. Loop control of simulation\n",
    "\n",
    "The loop control of the MD simulation can be introduced for the perodical loading and simulation run. The keyword for the loop control is use the label and jump command.\n",
    "\n",
    "Code Example:"
   ]
  },
  {
   "cell_type": "code",
   "execution_count": null,
   "metadata": {},
   "outputs": [],
   "source": [
    "# shear\n",
    "\n",
    "variable a loop 10\n",
    "label loop\n",
    "dump 1 all atom 100 file.$a\n",
    "run 10000\n",
    "undump 1\n",
    "next a\n",
    "jump in.lj loop"
   ]
  },
  {
   "cell_type": "markdown",
   "metadata": {},
   "source": [
    "2. Continue a simulation\n",
    "\n",
    "One can stop a simulation by output a special result, then, continue this simulation in another new run with the special output result."
   ]
  },
  {
   "cell_type": "raw",
   "metadata": {},
   "source": [
    "read_restart save.10000"
   ]
  },
  {
   "cell_type": "markdown",
   "metadata": {},
   "source": [
    "\n",
    "This read_restart command will read from file save.10000 and then continue a new simulation with different conditions.\n",
    "\n",
    "Code Example:"
   ]
  },
  {
   "cell_type": "raw",
   "metadata": {},
   "source": [
    "variable A equal 5.0\n",
    "variable Tp equal 10.0\n",
    "variable displace equal \"v_A * sin(2*PI * step*dt/v_Tp)\"\n",
    "variable rate equal \"2*PI*v_A/v_Tp * cos(2*PI * step*dt/v_Tp)\"\n",
    "fix 2 all deform 1 x variable v_displace v_rate remap v"
   ]
  },
  {
   "cell_type": "markdown",
   "metadata": {},
   "source": [
    "3. Ensemble"
   ]
  },
  {
   "cell_type": "markdown",
   "metadata": {},
   "source": [
    "NPT and Grand Canonical Ensembles\n",
    "\n",
    "The NPT ensemble is also called the isothermal-isobaric ensemble. It describes systems in contact with a thermostat at temperature T and a bariostat at pressure p. The system not only exchanges heat with the thermostat, it also exchange volume (and work) with the bariostat. The total number of particles N remains fixed. But the total energy E and volume V fluctuate at thermal equilibr\n",
    " \n",
    " microcanonical (NVE) ensemble"
   ]
  },
  {
   "cell_type": "raw",
   "metadata": {},
   "source": [
    "fix 1 all nvt temp 300.0 300.0 100.0\n",
    "fix 1 water npt temp 300.0 300.0 100.0 iso 0.0 0.0 1000.0\n",
    "fix 2 jello npt temp 300.0 300.0 100.0 tri 5.0 5.0 1000.0\n",
    "fix 2 ice nph x 1.0 1.0 0.5 y 2.0 2.0 0.5 z 3.0 3.0 0.5 yz 0.1 0.1 0.5 xz 0.2 0.2 0.5 xy 0.3 0.3 0.5 nreset 1000"
   ]
  },
  {
   "cell_type": "markdown",
   "metadata": {},
   "source": [
    "4. Temperature control\n",
    "\n",
    "Temmperature is essential during molecular dynamics simulation. There are several way for the numerical temperature control (thermostats) in MD simulation.\n",
    "\n",
    "1. • Velocity scaling\n",
    "2. • Berendsen\n",
    "3. • Andersen\n",
    "4. • Langevin dynamics\n",
    "5. • Nose-Hoover\n",
    "\n",
    "The energy and temperature in an N-body system following the constitution.\n",
    "\n",
    "$H(p,r)=E_k(p_N)+U(r_N)=const$\n",
    "\n",
    "$\\langle E_k\\rangle=\\langle\\frac{1}{2m}\\sum_{i}^{N}\\bar{p_i}^2\\rangle=\\frac{3}{2}Nk_bT$\n",
    "\n",
    "$\\langle\\sum_{i}^{N}(m_i\\bar{\\nu_i})^2\\rangle=3MNk_bT$\n",
    "\n",
    "$M\\langle\\sum_{i}^{N}\\bar{\\nu_i}^2\\rangle=3Nk_bT$\n",
    "\n",
    "$T=\\frac{M}{3Nk_b}\\langle\\sum_{i}^{N}\\bar{\\nu_i}^2\\rangle$\n",
    "\n",
    "$\\frac{T^{new}}{T^{old}}=\\frac{\\frac{M}{3Nk_b}\\langle\\sum_{i}^{N}\\bar{\\nu_i^{new}}^2\\rangle}{\\frac{M}{3Nk_b}\\langle\\sum_{i}^{N}\\bar{\\nu_i^{old}}^2\\rangle}$\n",
    "\n",
    "$\\frac{T^{new}}{T^{old}}=\\frac{\\langle\\sum_{i}^{N}\\bar{\\nu_i^{new}}^2\\rangle}{\\langle\\sum_{i}^{N}\\bar{\\nu_i^{old}}^2\\rangle}$\n",
    "\n",
    "$\\nu_i^{new}=\\nu_i^{old}\\sqrt{\\frac{T^{new}}{T^{old}}}$\n",
    "\n",
    "reference:https://nanohub.org/resources/7576/download/Martini_L4_TemperatureControl.pdf"
   ]
  },
  {
   "cell_type": "markdown",
   "metadata": {},
   "source": [
    "5. Pressure control\n",
    "\n",
    "Constant pressure simulation (and pressure calculation) require periodic boundary conditions. Pressure is controlled by dynamically adjusting the size of the unit cell and rescaling all atomic coordinates (other than those of fixed atoms) during the simulation.\n",
    "\n",
    "The phenomenological pressure of bulk matter reflects averaging in both space and time of the sum of a large positive term (the kinetic pressure, $ nRT/V$), and a large cancelling negative term (the static pressure)."
   ]
  }
 ],
 "metadata": {
  "kernelspec": {
   "display_name": "Python 3",
   "language": "python",
   "name": "python3"
  },
  "language_info": {
   "codemirror_mode": {
    "name": "ipython",
    "version": 3
   },
   "file_extension": ".py",
   "mimetype": "text/x-python",
   "name": "python",
   "nbconvert_exporter": "python",
   "pygments_lexer": "ipython3",
   "version": "3.7.6"
  }
 },
 "nbformat": 4,
 "nbformat_minor": 4
}
